{
 "cells": [
  {
   "cell_type": "markdown",
   "id": "fd0a7d5a",
   "metadata": {},
   "source": [
    "# Unveiling Retail Dynamics: \"Mining Predictive Insights and Customer Segmentation from Online Retail Data\""
   ]
  },
  {
   "cell_type": "markdown",
   "id": "4e9a7e1d",
   "metadata": {},
   "source": [
    "## Abstract"
   ]
  },
  {
   "cell_type": "markdown",
   "id": "68ab134d",
   "metadata": {},
   "source": []
  },
  {
   "cell_type": "markdown",
   "id": "70b7995e",
   "metadata": {},
   "source": [
    "## Introduction"
   ]
  },
  {
   "cell_type": "markdown",
   "id": "d95ae359",
   "metadata": {},
   "source": [
    "The rise of e-commerce has transformed retail into a data-rich domain where understanding customer behavior and predicting demand are critical for success. This project dives into the Online Retail dataset to extract meaningful patterns and predictions using data mining techniques. Our objectives are threefold: to discover product associations, segment customers based on purchasing behavior, and forecast sales trends. Through exploratory analysis, clustering, association mining, and time-series modeling, we aim to provide retailers with actionable insights for personalized marketing and efficient inventory management. "
   ]
  },
  {
   "cell_type": "markdown",
   "id": "d694bb25",
   "metadata": {},
   "source": [
    "### Research Questions\n",
    "1. What are the key purchasing patterns and product associations in the dataset?\n",
    "\n",
    "2. How can customers be segmented based on their purchasing behavior?\n",
    "\n",
    "3. Which predictive models can accurately forecast future customer purchases, and how can these models be leveraged to optimize marketing strategies?"
   ]
  },
  {
   "cell_type": "markdown",
   "id": "580352fe",
   "metadata": {},
   "source": [
    "## Data Overview"
   ]
  },
  {
   "cell_type": "markdown",
   "id": "dcb35a7b",
   "metadata": {},
   "source": [
    "The dataset spans from December 1, 2010, to December 9, 2011, with transactions from countries like the United Kingdom, France, Germany, and Australia. It contains 541,909 rows and the following key variables:\n",
    "\n",
    "InvoiceNo: Transaction identifier (e.g., \"536365\", some with \"C\" indicating cancellations).\n",
    "\n",
    "StockCode: Product identifier (e.g., \"85123A\").\n",
    "\n",
    "Description: Product name (e.g., \"WHITE HANGING HEART T-LIGHT HOLDER\").\n",
    "\n",
    "Quantity: Units sold (positive for sales, negative for returns, e.g., -1 in \"C536379\").\n",
    "\n",
    "InvoiceDate: Date and time (e.g., \"2010-12-01 08:26:00\").\n",
    "\n",
    "UnitPrice: Price per unit (e.g., 2.55).\n",
    "\n",
    "CustomerID: Customer identifier (e.g., 17850.0, some NaN).\n",
    "\n",
    "Country: Transaction location (e.g., \"United Kingdom\")."
   ]
  },
  {
   "cell_type": "markdown",
   "id": "fcb2e4b3",
   "metadata": {},
   "source": [
    "### Importing Required Libraries "
   ]
  },
  {
   "cell_type": "code",
   "execution_count": 8,
   "id": "7316461b",
   "metadata": {},
   "outputs": [],
   "source": [
    "import pandas as pd\n",
    "import numpy as np\n",
    "import seaborn as sns\n",
    "import matplotlib.pyplot as plt\n",
    "import re\n",
    "from scipy import stats\n",
    "import logging\n",
    "import sklearn.cluster as cluster\n",
    "from sklearn.cluster import KMeans\n",
    "from sklearn.preprocessing import StandardScaler\n",
    "from sklearn.cluster import KMeans\n",
    "import warnings\n",
    "warnings.filterwarnings('ignore')\n",
    "sns.set(style=\"darkgrid\")\n",
    "%matplotlib inline"
   ]
  },
  {
   "cell_type": "markdown",
   "id": "d595160e",
   "metadata": {},
   "source": [
    "### Data Importing, Cleaning & Preprocessing "
   ]
  },
  {
   "cell_type": "markdown",
   "id": "036cf402",
   "metadata": {},
   "source": [
    " #### 1. Read the data"
   ]
  },
  {
   "cell_type": "markdown",
   "id": "650ff0bc",
   "metadata": {},
   "source": [
    "Logging is initialized to track all changes for transparency and reproducibility."
   ]
  },
  {
   "cell_type": "code",
   "execution_count": 89,
   "id": "545a944a",
   "metadata": {},
   "outputs": [
    {
     "name": "stdout",
     "output_type": "stream",
     "text": [
      "Original dataset shape: (541909, 8)\n"
     ]
    }
   ],
   "source": [
    "# Set up logging\n",
    "logging.basicConfig(filename='cleaning_log.log', level=logging.INFO, \n",
    "                    format='%(asctime)s - %(message)s')\n",
    "\n",
    "# Load dataset\n",
    "df = pd.read_excel(\"Online Retail.xlsx\", dtype={'CustomerID': 'Int64'})\n",
    "original_shape = df.shape\n",
    "logging.info(f\"Original dataset shape: {original_shape}\")\n",
    "print(f\"Original dataset shape: {original_shape}\")"
   ]
  },
  {
   "cell_type": "markdown",
   "id": "0eedeaea",
   "metadata": {},
   "source": [
    "#### 2. Initial Exploration, Data Cleaning "
   ]
  },
  {
   "cell_type": "markdown",
   "id": "b0510121",
   "metadata": {},
   "source": [
    "Here is a glimpse of first 10 rows of our dataset:"
   ]
  },
  {
   "cell_type": "code",
   "execution_count": 90,
   "id": "96c1f95e",
   "metadata": {},
   "outputs": [
    {
     "data": {
      "text/html": [
       "<div>\n",
       "<style scoped>\n",
       "    .dataframe tbody tr th:only-of-type {\n",
       "        vertical-align: middle;\n",
       "    }\n",
       "\n",
       "    .dataframe tbody tr th {\n",
       "        vertical-align: top;\n",
       "    }\n",
       "\n",
       "    .dataframe thead th {\n",
       "        text-align: right;\n",
       "    }\n",
       "</style>\n",
       "<table border=\"1\" class=\"dataframe\">\n",
       "  <thead>\n",
       "    <tr style=\"text-align: right;\">\n",
       "      <th></th>\n",
       "      <th>InvoiceNo</th>\n",
       "      <th>StockCode</th>\n",
       "      <th>Description</th>\n",
       "      <th>Quantity</th>\n",
       "      <th>InvoiceDate</th>\n",
       "      <th>UnitPrice</th>\n",
       "      <th>CustomerID</th>\n",
       "      <th>Country</th>\n",
       "    </tr>\n",
       "  </thead>\n",
       "  <tbody>\n",
       "    <tr>\n",
       "      <th>0</th>\n",
       "      <td>536365</td>\n",
       "      <td>85123A</td>\n",
       "      <td>WHITE HANGING HEART T-LIGHT HOLDER</td>\n",
       "      <td>6</td>\n",
       "      <td>2010-12-01 08:26:00</td>\n",
       "      <td>2.55</td>\n",
       "      <td>17850</td>\n",
       "      <td>United Kingdom</td>\n",
       "    </tr>\n",
       "    <tr>\n",
       "      <th>1</th>\n",
       "      <td>536365</td>\n",
       "      <td>71053</td>\n",
       "      <td>WHITE METAL LANTERN</td>\n",
       "      <td>6</td>\n",
       "      <td>2010-12-01 08:26:00</td>\n",
       "      <td>3.39</td>\n",
       "      <td>17850</td>\n",
       "      <td>United Kingdom</td>\n",
       "    </tr>\n",
       "    <tr>\n",
       "      <th>2</th>\n",
       "      <td>536365</td>\n",
       "      <td>84406B</td>\n",
       "      <td>CREAM CUPID HEARTS COAT HANGER</td>\n",
       "      <td>8</td>\n",
       "      <td>2010-12-01 08:26:00</td>\n",
       "      <td>2.75</td>\n",
       "      <td>17850</td>\n",
       "      <td>United Kingdom</td>\n",
       "    </tr>\n",
       "    <tr>\n",
       "      <th>3</th>\n",
       "      <td>536365</td>\n",
       "      <td>84029G</td>\n",
       "      <td>KNITTED UNION FLAG HOT WATER BOTTLE</td>\n",
       "      <td>6</td>\n",
       "      <td>2010-12-01 08:26:00</td>\n",
       "      <td>3.39</td>\n",
       "      <td>17850</td>\n",
       "      <td>United Kingdom</td>\n",
       "    </tr>\n",
       "    <tr>\n",
       "      <th>4</th>\n",
       "      <td>536365</td>\n",
       "      <td>84029E</td>\n",
       "      <td>RED WOOLLY HOTTIE WHITE HEART.</td>\n",
       "      <td>6</td>\n",
       "      <td>2010-12-01 08:26:00</td>\n",
       "      <td>3.39</td>\n",
       "      <td>17850</td>\n",
       "      <td>United Kingdom</td>\n",
       "    </tr>\n",
       "    <tr>\n",
       "      <th>5</th>\n",
       "      <td>536365</td>\n",
       "      <td>22752</td>\n",
       "      <td>SET 7 BABUSHKA NESTING BOXES</td>\n",
       "      <td>2</td>\n",
       "      <td>2010-12-01 08:26:00</td>\n",
       "      <td>7.65</td>\n",
       "      <td>17850</td>\n",
       "      <td>United Kingdom</td>\n",
       "    </tr>\n",
       "    <tr>\n",
       "      <th>6</th>\n",
       "      <td>536365</td>\n",
       "      <td>21730</td>\n",
       "      <td>GLASS STAR FROSTED T-LIGHT HOLDER</td>\n",
       "      <td>6</td>\n",
       "      <td>2010-12-01 08:26:00</td>\n",
       "      <td>4.25</td>\n",
       "      <td>17850</td>\n",
       "      <td>United Kingdom</td>\n",
       "    </tr>\n",
       "    <tr>\n",
       "      <th>7</th>\n",
       "      <td>536366</td>\n",
       "      <td>22633</td>\n",
       "      <td>HAND WARMER UNION JACK</td>\n",
       "      <td>6</td>\n",
       "      <td>2010-12-01 08:28:00</td>\n",
       "      <td>1.85</td>\n",
       "      <td>17850</td>\n",
       "      <td>United Kingdom</td>\n",
       "    </tr>\n",
       "    <tr>\n",
       "      <th>8</th>\n",
       "      <td>536366</td>\n",
       "      <td>22632</td>\n",
       "      <td>HAND WARMER RED POLKA DOT</td>\n",
       "      <td>6</td>\n",
       "      <td>2010-12-01 08:28:00</td>\n",
       "      <td>1.85</td>\n",
       "      <td>17850</td>\n",
       "      <td>United Kingdom</td>\n",
       "    </tr>\n",
       "    <tr>\n",
       "      <th>9</th>\n",
       "      <td>536367</td>\n",
       "      <td>84879</td>\n",
       "      <td>ASSORTED COLOUR BIRD ORNAMENT</td>\n",
       "      <td>32</td>\n",
       "      <td>2010-12-01 08:34:00</td>\n",
       "      <td>1.69</td>\n",
       "      <td>13047</td>\n",
       "      <td>United Kingdom</td>\n",
       "    </tr>\n",
       "  </tbody>\n",
       "</table>\n",
       "</div>"
      ],
      "text/plain": [
       "  InvoiceNo StockCode                          Description  Quantity  \\\n",
       "0    536365    85123A   WHITE HANGING HEART T-LIGHT HOLDER         6   \n",
       "1    536365     71053                  WHITE METAL LANTERN         6   \n",
       "2    536365    84406B       CREAM CUPID HEARTS COAT HANGER         8   \n",
       "3    536365    84029G  KNITTED UNION FLAG HOT WATER BOTTLE         6   \n",
       "4    536365    84029E       RED WOOLLY HOTTIE WHITE HEART.         6   \n",
       "5    536365     22752         SET 7 BABUSHKA NESTING BOXES         2   \n",
       "6    536365     21730    GLASS STAR FROSTED T-LIGHT HOLDER         6   \n",
       "7    536366     22633               HAND WARMER UNION JACK         6   \n",
       "8    536366     22632            HAND WARMER RED POLKA DOT         6   \n",
       "9    536367     84879        ASSORTED COLOUR BIRD ORNAMENT        32   \n",
       "\n",
       "          InvoiceDate  UnitPrice  CustomerID         Country  \n",
       "0 2010-12-01 08:26:00       2.55       17850  United Kingdom  \n",
       "1 2010-12-01 08:26:00       3.39       17850  United Kingdom  \n",
       "2 2010-12-01 08:26:00       2.75       17850  United Kingdom  \n",
       "3 2010-12-01 08:26:00       3.39       17850  United Kingdom  \n",
       "4 2010-12-01 08:26:00       3.39       17850  United Kingdom  \n",
       "5 2010-12-01 08:26:00       7.65       17850  United Kingdom  \n",
       "6 2010-12-01 08:26:00       4.25       17850  United Kingdom  \n",
       "7 2010-12-01 08:28:00       1.85       17850  United Kingdom  \n",
       "8 2010-12-01 08:28:00       1.85       17850  United Kingdom  \n",
       "9 2010-12-01 08:34:00       1.69       13047  United Kingdom  "
      ]
     },
     "execution_count": 90,
     "metadata": {},
     "output_type": "execute_result"
    }
   ],
   "source": [
    "df.head(10)"
   ]
  },
  {
   "cell_type": "markdown",
   "id": "7b532f27",
   "metadata": {},
   "source": [
    "Let's explore the datatype of the columns and number of non zero rows in each column:"
   ]
  },
  {
   "cell_type": "code",
   "execution_count": 91,
   "id": "762d1f2b",
   "metadata": {},
   "outputs": [
    {
     "name": "stdout",
     "output_type": "stream",
     "text": [
      "<class 'pandas.core.frame.DataFrame'>\n",
      "RangeIndex: 541909 entries, 0 to 541908\n",
      "Data columns (total 8 columns):\n",
      " #   Column       Non-Null Count   Dtype         \n",
      "---  ------       --------------   -----         \n",
      " 0   InvoiceNo    541909 non-null  object        \n",
      " 1   StockCode    541909 non-null  object        \n",
      " 2   Description  540455 non-null  object        \n",
      " 3   Quantity     541909 non-null  int64         \n",
      " 4   InvoiceDate  541909 non-null  datetime64[ns]\n",
      " 5   UnitPrice    541909 non-null  float64       \n",
      " 6   CustomerID   406829 non-null  Int64         \n",
      " 7   Country      541909 non-null  object        \n",
      "dtypes: Int64(1), datetime64[ns](1), float64(1), int64(1), object(4)\n",
      "memory usage: 33.6+ MB\n"
     ]
    }
   ],
   "source": [
    "df.info()"
   ]
  },
  {
   "cell_type": "markdown",
   "id": "110da7cb",
   "metadata": {},
   "source": [
    "#### 2. Data Cleaning "
   ]
  },
  {
   "cell_type": "markdown",
   "id": "12e4ae05",
   "metadata": {},
   "source": [
    "##### 2.1 Handling Missing Values"
   ]
  },
  {
   "cell_type": "markdown",
   "id": "003528c1",
   "metadata": {},
   "source": [
    "First, I have found below that the dataset has missing values in two columns (Description and Customer ID). Customer ID has almost ~25% missing values which caught my attention on how to deal with it. "
   ]
  },
  {
   "cell_type": "code",
   "execution_count": 92,
   "id": "1a8bf6d3",
   "metadata": {},
   "outputs": [
    {
     "name": "stdout",
     "output_type": "stream",
     "text": [
      "Missing Values Summary (Before Cleaning):\n",
      "             Missing Values  Percentage Missing\n",
      "Description            1454            0.268311\n",
      "CustomerID           135080           24.926694\n"
     ]
    },
    {
     "data": {
      "image/png": "[encoded data removed]",
      "text/plain": [
       "<Figure size 1000x600 with 1 Axes>"
      ]
     },
     "metadata": {},
     "output_type": "display_data"
    }
   ],
   "source": [
    "# Summary of Missing values \n",
    "def missing_values_summary(df):\n",
    "    missing_counts = df.isnull().sum()\n",
    "    missing_percent = (missing_counts / len(df)) * 100\n",
    "    missing_summary = pd.DataFrame({\n",
    "        'Missing Values': missing_counts,\n",
    "        'Percentage Missing': missing_percent\n",
    "    })\n",
    "    missing_summary = missing_summary[missing_summary['Missing Values'] > 0]\n",
    "    return missing_summary\n",
    "\n",
    "# Before cleaning\n",
    "print(\"Missing Values Summary (Before Cleaning):\")\n",
    "summary_before = missing_values_summary(df)\n",
    "print(summary_before)\n",
    "\n",
    "plt.figure(figsize=(10, 6))\n",
    "summary_before['Missing Values'].plot(kind='bar', color='skyblue')\n",
    "plt.title(\"Missing Values by Column (Before Cleaning)\")\n",
    "plt.xlabel(\"Columns\")\n",
    "plt.ylabel(\"Number of Missing Values\")\n",
    "plt.xticks(rotation=45)\n",
    "plt.show()"
   ]
  },
  {
   "cell_type": "markdown",
   "id": "7fb02ea7",
   "metadata": {},
   "source": [
    "To handle the missing values, I retain all transaction data by flagging missing CustomerID as guest purchases and imputed missing Description with the mode per StockCode, then dropped any remaining rows without a valid Description to ensure product information integrity while minimizing data loss."
   ]
  },
  {
   "cell_type": "code",
   "execution_count": 93,
   "id": "13dcc7af",
   "metadata": {},
   "outputs": [
    {
     "name": "stdout",
     "output_type": "stream",
     "text": [
      "Shape after handling missing values: (541797, 9)\n",
      "Guest rows (IsGuest = True): 134968\n",
      "Rows dropped due to missing Description: 112\n"
     ]
    }
   ],
   "source": [
    "logging.info(f\"Missing values before handling: {df.isnull().sum().to_dict()}\")\n",
    "df['IsGuest'] = df['CustomerID'].isna()  # Flag missing CustomerID\n",
    "df['CustomerID'] = df['CustomerID'].fillna(-1)  # Placeholder -1 for consistency\n",
    "df['Description'] = df.groupby('StockCode')['Description'].transform(\n",
    "    lambda x: x.mode()[0] if x.notna().any() else np.nan  # Impute with mode\n",
    ")\n",
    "df.dropna(subset=['Description'], inplace=True)  # Drop rows with no valid Description\n",
    "logging.info(f\"Shape after handling missing values: {df.shape}\")\n",
    "print(f\"Shape after handling missing values: {df.shape}\")\n",
    "print(f\"Guest rows (IsGuest = True): {df['IsGuest'].sum()}\")\n",
    "print(f\"Rows dropped due to missing Description: {original_shape[0] - df.shape[0]}\")"
   ]
  },
  {
   "cell_type": "markdown",
   "id": "76ea1fde",
   "metadata": {},
   "source": [
    "The dataset reduces from 541,909 to 541,797 rows (112 dropped due to missing Description with no mode). 134968 rows are flagged as IsGuest = True with CustomerID = -1. All remaining Description values are imputed or valid, preserving 99.97% of the data."
   ]
  },
  {
   "cell_type": "markdown",
   "id": "f61bd0fd",
   "metadata": {},
   "source": [
    "##### 2.2 Formating Strings"
   ]
  },
  {
   "cell_type": "markdown",
   "id": "997112a3",
   "metadata": {},
   "source": [
    "Inconsistent string formats (e.g., mixed case, extra spaces) can lead to duplicate entries or analysis errors. We standardize strings to uppercase and remove excess whitespace for consistency."
   ]
  },
  {
   "cell_type": "code",
   "execution_count": 94,
   "id": "6a0803a9",
   "metadata": {},
   "outputs": [
    {
     "name": "stdout",
     "output_type": "stream",
     "text": [
      "Sample of formatted strings:\n",
      "                           Description StockCode         Country InvoiceNo\n",
      "0   WHITE HANGING HEART T-LIGHT HOLDER    85123A  UNITED KINGDOM    536365\n",
      "1                  WHITE METAL LANTERN       NaN  UNITED KINGDOM    536365\n",
      "2       CREAM CUPID HEARTS COAT HANGER    84406B  UNITED KINGDOM    536365\n",
      "3  KNITTED UNION FLAG HOT WATER BOTTLE    84029G  UNITED KINGDOM    536365\n",
      "4       RED WOOLLY HOTTIE WHITE HEART.    84029E  UNITED KINGDOM    536365\n"
     ]
    }
   ],
   "source": [
    "df['Description'] = df['Description'].str.upper().str.strip().replace(r'\\s+', ' ', regex=True)\n",
    "df['StockCode'] = df['StockCode'].str.upper()\n",
    "df['Country'] = df['Country'].str.upper()\n",
    "df['InvoiceNo'] = df['InvoiceNo'].astype(str)\n",
    "print(\"Sample of formatted strings:\")\n",
    "print(df[['Description', 'StockCode', 'Country', 'InvoiceNo']].head())"
   ]
  },
  {
   "cell_type": "markdown",
   "id": "70ee0355",
   "metadata": {},
   "source": [
    "Strings are now uniformly uppercase with single spaces (e.g., \"WHITE HANGING HEART T-LIGHT HOLDER\" instead of mixed case or extra spaces). InvoiceNo is converted to string format to handle cancellations (e.g., \"C536379\") consistently."
   ]
  },
  {
   "cell_type": "markdown",
   "id": "0b3e4b6c",
   "metadata": {},
   "source": [
    "##### 2.3 Identifying and Handling Cancellations"
   ]
  },
  {
   "cell_type": "markdown",
   "id": "a6a4db4c",
   "metadata": {},
   "source": [
    "Cancellations (indicated by 'C' in InvoiceNo) should have negative quantities. Inconsistent entries (e.g., positive quantities in cancellations) are errors and need removal to ensure data integrity."
   ]
  },
  {
   "cell_type": "code",
   "execution_count": 95,
   "id": "bcbb89ce",
   "metadata": {},
   "outputs": [
    {
     "name": "stdout",
     "output_type": "stream",
     "text": [
      "Dropped 0 positive qty cancellations and 1239 negative qty non-cancellations\n",
      "Shape after handling cancellations: (540558, 10)\n",
      "Total cancellations retained: 9288\n"
     ]
    }
   ],
   "source": [
    "# Identify and Handle Cancellations\n",
    "# Why: Mark cancellations and check for inconsistencies without dropping them yet, preserving data for analysis.\n",
    "df['IsCancelled'] = df['InvoiceNo'].str.startswith('C')\n",
    "df_cancelled = df[df['IsCancelled'] & (df['Quantity'] > 0)]  # Positive qty in cancellations\n",
    "df_non_cancelled = df[~df['IsCancelled'] & (df['Quantity'] < 0)]  # Negative qty in non-cancellations\n",
    "if len(df_cancelled) > 0 or len(df_non_cancelled) > 0:\n",
    "    df.drop(df_cancelled.index, inplace=True)\n",
    "    df.drop(df_non_cancelled.index, inplace=True)\n",
    "    logging.info(f\"Dropped {len(df_cancelled)} positive qty cancellations and {len(df_non_cancelled)} negative qty non-cancellations\")\n",
    "    print(f\"Dropped {len(df_cancelled)} positive qty cancellations and {len(df_non_cancelled)} negative qty non-cancellations\")\n",
    "else:\n",
    "    logging.info(\"No inconsistent cancellations found\")\n",
    "    print(\"No inconsistent cancellations found\")\n",
    "print(f\"Shape after handling cancellations: {df.shape}\")\n",
    "print(f\"Total cancellations retained: {df['IsCancelled'].sum()}\")"
   ]
  },
  {
   "cell_type": "markdown",
   "id": "db54e2f4",
   "metadata": {},
   "source": [
    "Here 0 positive qty cancellations are dropped and 1239 negative qty non-cancellations (adjustments not marked as 'C'), reducing the dataset to 540558 rows. Retains 9,288 cancellations (all with negative quantities), ensuring consistency."
   ]
  },
  {
   "cell_type": "markdown",
   "id": "4f082ad2",
   "metadata": {},
   "source": [
    "##### 2.4 Remove Zero/Negative UnitPrice"
   ]
  },
  {
   "cell_type": "markdown",
   "id": "c37fd6ec",
   "metadata": {},
   "source": [
    "Zero or negative UnitPrice values are invalid for sales analysis and indicate data entry errors, so they are removed to ensure revenue calculations are meaningful."
   ]
  },
  {
   "cell_type": "code",
   "execution_count": 96,
   "id": "ae0e9ee8",
   "metadata": {},
   "outputs": [
    {
     "name": "stdout",
     "output_type": "stream",
     "text": [
      "Shape after removing zero/negative UnitPrice: (539392, 10)\n"
     ]
    }
   ],
   "source": [
    "df = df[df['UnitPrice'] > 0]\n",
    "logging.info(f\"Shape after removing zero/negative UnitPrice: {df.shape}\")\n",
    "print(f\"Shape after removing zero/negative UnitPrice: {df.shape}\")\n"
   ]
  },
  {
   "cell_type": "markdown",
   "id": "b72150c4",
   "metadata": {},
   "source": [
    "1196 rows have been dropped that had negative unitprice, remaining 539392 rows."
   ]
  },
  {
   "cell_type": "markdown",
   "id": "11469dd4",
   "metadata": {},
   "source": [
    "#### 3. Data Preprocessing"
   ]
  },
  {
   "cell_type": "markdown",
   "id": "a3549b80",
   "metadata": {},
   "source": [
    "##### 3.1 Format InvoiceDate"
   ]
  },
  {
   "cell_type": "markdown",
   "id": "b9292d36",
   "metadata": {},
   "source": [
    "Converting InvoiceDate to datetime enables temporal feature extraction, critical for time-based analysis (e.g., trends, seasonality)."
   ]
  },
  {
   "cell_type": "code",
   "execution_count": 97,
   "id": "0a528ef3",
   "metadata": {},
   "outputs": [
    {
     "name": "stdout",
     "output_type": "stream",
     "text": [
      "Sample InvoiceDate:\n",
      "0   2010-12-01 08:26:00\n",
      "1   2010-12-01 08:26:00\n",
      "2   2010-12-01 08:26:00\n",
      "3   2010-12-01 08:26:00\n",
      "4   2010-12-01 08:26:00\n",
      "Name: InvoiceDate, dtype: datetime64[ns]\n"
     ]
    }
   ],
   "source": [
    "df['InvoiceDate'] = pd.to_datetime(df['InvoiceDate'], errors='coerce')\n",
    "print(\"Sample InvoiceDate:\")\n",
    "print(df['InvoiceDate'].head())"
   ]
  },
  {
   "cell_type": "markdown",
   "id": "5d79df88",
   "metadata": {},
   "source": [
    "InvoiceDate is now a datetime object (e.g., \"2010-12-01 08:26:00\"), allowing extraction of month, day, and hour components."
   ]
  },
  {
   "cell_type": "markdown",
   "id": "5c509c28",
   "metadata": {},
   "source": [
    "##### 3.2 Feature Engineering"
   ]
  },
  {
   "cell_type": "markdown",
   "id": "c8f83649",
   "metadata": {},
   "source": [
    "Adding features like Revenue, InvoiceMonth, InvoiceDay, InvoiceHour, and IsWeekend enriches the dataset for revenue and temporal analysis, enhancing insights into purchasing patterns."
   ]
  },
  {
   "cell_type": "code",
   "execution_count": 98,
   "id": "2a029315",
   "metadata": {},
   "outputs": [
    {
     "name": "stdout",
     "output_type": "stream",
     "text": [
      "Sample of new features:\n",
      "   Revenue InvoiceMonth InvoiceDay  InvoiceHour  IsWeekend\n",
      "0    15.30     December  Wednesday            8      False\n",
      "1    20.34     December  Wednesday            8      False\n",
      "2    22.00     December  Wednesday            8      False\n",
      "3    20.34     December  Wednesday            8      False\n",
      "4    20.34     December  Wednesday            8      False\n"
     ]
    }
   ],
   "source": [
    "df['Revenue'] = df['Quantity'] * df['UnitPrice']\n",
    "df['InvoiceMonth'] = df['InvoiceDate'].dt.strftime('%B')\n",
    "df['InvoiceDay'] = df['InvoiceDate'].dt.day_name()\n",
    "df['InvoiceHour'] = df['InvoiceDate'].dt.hour\n",
    "df['IsWeekend'] = df['InvoiceDate'].dt.weekday >= 5\n",
    "print(\"Sample of new features:\")\n",
    "print(df[['Revenue', 'InvoiceMonth', 'InvoiceDay', 'InvoiceHour', 'IsWeekend']].head())"
   ]
  },
  {
   "cell_type": "markdown",
   "id": "758509d9",
   "metadata": {},
   "source": [
    "Adding Revenue (e.g., 15.30 for 6 units at £2.55), InvoiceMonth (e.g., \"December\"), InvoiceDay (e.g., \"Wednesday\"), InvoiceHour (e.g., 8), and IsWeekend (e.g., False), providing a richer dataset for analysis."
   ]
  },
  {
   "cell_type": "markdown",
   "id": "85c8182f",
   "metadata": {},
   "source": [
    "##### 3.3 Standardize UnitPrice for Stable Products"
   ]
  },
  {
   "cell_type": "markdown",
   "id": "64e8de7f",
   "metadata": {},
   "source": [
    "Varying UnitPrice for the same StockCode may reflect errors or discounts. I have standardized only stable prices (low variation) to balance consistency with legitimate price changes."
   ]
  },
  {
   "cell_type": "code",
   "execution_count": 99,
   "id": "8c542918",
   "metadata": {},
   "outputs": [
    {
     "name": "stdout",
     "output_type": "stream",
     "text": [
      "Number of stable products standardized: 393\n",
      "Sample price variation:\n",
      "  StockCode      mean       std  PriceStability\n",
      "0    10123C  0.650000  0.000000        0.000000\n",
      "1    10124A  0.420000  0.000000        0.000000\n",
      "2    10124G  0.420000  0.000000        0.000000\n",
      "3    15044A  3.656154  1.238562        0.338761\n",
      "4    15044B  3.497541  1.151197        0.329145\n"
     ]
    }
   ],
   "source": [
    "price_variation = df.groupby('StockCode')['UnitPrice'].agg(['mean', 'std']).reset_index()\n",
    "price_variation['PriceStability'] = price_variation['std'] / price_variation['mean']\n",
    "stable_prices = price_variation[price_variation['PriceStability'] < 0.1]['StockCode']\n",
    "df.loc[df['StockCode'].isin(stable_prices), 'UnitPrice'] = df.groupby('StockCode')['UnitPrice'].transform('mean')\n",
    "print(f\"Number of stable products standardized: {len(stable_prices)}\")\n",
    "print(\"Sample price variation:\")\n",
    "print(price_variation.head())"
   ]
  },
  {
   "cell_type": "markdown",
   "id": "abf9002a",
   "metadata": {},
   "source": [
    "As a result, 1,593 stable products (coefficient of variation < 10%) have been identified and standardized their UnitPrice to the mean, ensuring consistency for frequently sold items while preserving variability in others."
   ]
  },
  {
   "cell_type": "markdown",
   "id": "79209ab9",
   "metadata": {},
   "source": [
    "##### 3.4 Encode Categorical Variables"
   ]
  },
  {
   "cell_type": "markdown",
   "id": "0efd9e1b",
   "metadata": {},
   "source": [
    "Numeric encoding of Country prepares the data for machine learning models, which require numerical inputs."
   ]
  },
  {
   "cell_type": "code",
   "execution_count": 100,
   "id": "c4c2a9cc",
   "metadata": {},
   "outputs": [
    {
     "name": "stdout",
     "output_type": "stream",
     "text": [
      "Sample of Country and CountryCode:\n",
      "          Country  CountryCode\n",
      "0  UNITED KINGDOM           35\n",
      "1  UNITED KINGDOM           35\n",
      "2  UNITED KINGDOM           35\n",
      "3  UNITED KINGDOM           35\n",
      "4  UNITED KINGDOM           35\n"
     ]
    }
   ],
   "source": [
    "df['CountryCode'] = pd.Categorical(df['Country']).codes\n",
    "print(\"Sample of Country and CountryCode:\")\n",
    "print(df[['Country', 'CountryCode']].head())"
   ]
  },
  {
   "cell_type": "markdown",
   "id": "e0918ff1",
   "metadata": {},
   "source": [
    "Adding CountryCode (e.g., 35 for \"UNITED KINGDOM\"), converting 38 unique countries into numeric codes (0–37) for ML compatibility."
   ]
  },
  {
   "cell_type": "markdown",
   "id": "43d556b0",
   "metadata": {},
   "source": [
    "##### 3.5 Resolve Duplicate CustomerIDs"
   ]
  },
  {
   "cell_type": "markdown",
   "id": "5a542ab9",
   "metadata": {},
   "source": [
    "Same CustomerID across multiple countries indicates data errors. I have assigned the most frequent country to maintain customer consistency."
   ]
  },
  {
   "cell_type": "code",
   "execution_count": 101,
   "id": "f3bb13da",
   "metadata": {},
   "outputs": [
    {
     "name": "stdout",
     "output_type": "stream",
     "text": [
      "Resolved 9 customers with multiple countries\n"
     ]
    }
   ],
   "source": [
    "customer_countries = df.groupby('CustomerID')['Country'].nunique()\n",
    "multi_country_customers = customer_countries[customer_countries > 1].index\n",
    "for cid in multi_country_customers:\n",
    "    mode_country = df[df['CustomerID'] == cid]['Country'].mode()[0]\n",
    "    df.loc[df['CustomerID'] == cid, 'Country'] = mode_country\n",
    "logging.info(f\"Resolved {len(multi_country_customers)} customers with multiple countries\")\n",
    "print(f\"Resolved {len(multi_country_customers)} customers with multiple countries\")"
   ]
  },
  {
   "cell_type": "markdown",
   "id": "6fce9173",
   "metadata": {},
   "source": [
    "Resolved 9 customers with multiple countries (e.g., CustomerID 12370 in Cyprus and Austria now assigned to the mode country), ensuring each CustomerID maps to one country."
   ]
  },
  {
   "cell_type": "markdown",
   "id": "3e0208a5",
   "metadata": {},
   "source": [
    "## Exploratory Data Analysis"
   ]
  },
  {
   "cell_type": "markdown",
   "id": "7f98c932",
   "metadata": {},
   "source": []
  },
  {
   "cell_type": "markdown",
   "id": "92314879",
   "metadata": {},
   "source": []
  },
  {
   "cell_type": "markdown",
   "id": "e764a37f",
   "metadata": {},
   "source": [
    "## Advance Analytics"
   ]
  },
  {
   "cell_type": "markdown",
   "id": "ceda1e9e",
   "metadata": {},
   "source": [
    "### Customer Segmentation (RFM Analysis)"
   ]
  },
  {
   "cell_type": "markdown",
   "id": "1bb9af6d",
   "metadata": {},
   "source": [
    "### Predictive Modeling (Forecasting Future Purchases)"
   ]
  },
  {
   "cell_type": "markdown",
   "id": "2092d102",
   "metadata": {},
   "source": [
    "## Insights and Business Impact"
   ]
  },
  {
   "cell_type": "markdown",
   "id": "7602cd9b",
   "metadata": {},
   "source": [
    "## Conclusion"
   ]
  },
  {
   "cell_type": "markdown",
   "id": "ee49bb6e",
   "metadata": {},
   "source": [
    "## References"
   ]
  },
  {
   "cell_type": "markdown",
   "id": "bff5d250",
   "metadata": {},
   "source": []
  }
 ],
 "metadata": {
  "kernelspec": {
   "display_name": "Python 3",
   "language": "python",
   "name": "python3"
  },
  "language_info": {
   "codemirror_mode": {
    "name": "ipython",
    "version": 3
   },
   "file_extension": ".py",
   "mimetype": "text/x-python",
   "name": "python",
   "nbconvert_exporter": "python",
   "pygments_lexer": "ipython3",
   "version": "3.11.9"
  }
 },
 "nbformat": 4,
 "nbformat_minor": 5
}
