{
 "cells": [
  {
   "cell_type": "markdown",
   "id": "fd0a7d5a",
   "metadata": {},
   "source": [
    "# Unveiling Retail Dynamics: \"Mining Predictive Insights and Customer Segmentation from Online Retail Data\""
   ]
  },
  {
   "cell_type": "markdown",
   "id": "4e9a7e1d",
   "metadata": {},
   "source": [
    "## Abstract"
   ]
  },
  {
   "cell_type": "markdown",
   "id": "68ab134d",
   "metadata": {},
   "source": []
  },
  {
   "cell_type": "markdown",
   "id": "70b7995e",
   "metadata": {},
   "source": [
    "## Introduction"
   ]
  },
  {
   "cell_type": "markdown",
   "id": "d95ae359",
   "metadata": {},
   "source": [
    "The rise of e-commerce has transformed retail into a data-rich domain where understanding customer behavior and predicting demand are critical for success. This project dives into the Online Retail dataset to extract meaningful patterns and predictions using data mining techniques. Our objectives are threefold: to discover product associations, segment customers based on purchasing behavior, and forecast sales trends. Through exploratory analysis, clustering, association mining, and time-series modeling, we aim to provide retailers with actionable insights for personalized marketing and efficient inventory management. "
   ]
  },
  {
   "cell_type": "markdown",
   "id": "d694bb25",
   "metadata": {},
   "source": [
    "### Research Questions\n",
    "1. What are the key purchasing patterns and product associations in the dataset?\n",
    "\n",
    "2. How can customers be segmented based on their purchasing behavior?\n",
    "\n",
    "3. Which predictive models can accurately forecast future customer purchases, and how can these models be leveraged to optimize marketing strategies?"
   ]
  },
  {
   "cell_type": "markdown",
   "id": "580352fe",
   "metadata": {},
   "source": [
    "## Data Overview"
   ]
  },
  {
   "cell_type": "markdown",
   "id": "dcb35a7b",
   "metadata": {},
   "source": [
    "The dataset spans from December 1, 2010, to December 9, 2011, with transactions from countries like the United Kingdom, France, Germany, and Australia. It contains 541,909 rows and the following key variables:\n",
    "\n",
    "InvoiceNo: Transaction identifier (e.g., \"536365\", some with \"C\" indicating cancellations).\n",
    "\n",
    "StockCode: Product identifier (e.g., \"85123A\").\n",
    "\n",
    "Description: Product name (e.g., \"WHITE HANGING HEART T-LIGHT HOLDER\").\n",
    "\n",
    "Quantity: Units sold (positive for sales, negative for returns, e.g., -1 in \"C536379\").\n",
    "\n",
    "InvoiceDate: Date and time (e.g., \"2010-12-01 08:26:00\").\n",
    "\n",
    "UnitPrice: Price per unit (e.g., 2.55).\n",
    "\n",
    "CustomerID: Customer identifier (e.g., 17850.0, some NaN).\n",
    "\n",
    "Country: Transaction location (e.g., \"United Kingdom\")."
   ]
  },
  {
   "cell_type": "markdown",
   "id": "fcb2e4b3",
   "metadata": {},
   "source": [
    "### Importing Required Libraries "
   ]
  },
  {
   "cell_type": "code",
   "execution_count": 8,
   "id": "7316461b",
   "metadata": {},
   "outputs": [],
   "source": [
    "import pandas as pd\n",
    "import numpy as np\n",
    "import seaborn as sns\n",
    "import matplotlib.pyplot as plt\n",
    "import re\n",
    "from scipy import stats\n",
    "import logging\n",
    "import sklearn.cluster as cluster\n",
    "from sklearn.cluster import KMeans\n",
    "from sklearn.preprocessing import StandardScaler\n",
    "from sklearn.cluster import KMeans\n",
    "import warnings\n",
    "warnings.filterwarnings('ignore')\n",
    "sns.set(style=\"darkgrid\")\n",
    "%matplotlib inline"
   ]
  },
  {
   "cell_type": "markdown",
   "id": "d595160e",
   "metadata": {},
   "source": [
    "### Data Importing, Cleaning & Preprocessing "
   ]
  },
  {
   "cell_type": "markdown",
   "id": "036cf402",
   "metadata": {},
   "source": [
    " #### 1. Read the data"
   ]
  },
  {
   "cell_type": "markdown",
   "id": "650ff0bc",
   "metadata": {},
   "source": [
    "Logging is initialized to track all changes for transparency and reproducibility."
   ]
  },
  {
   "cell_type": "code",
   "execution_count": 14,
   "id": "545a944a",
   "metadata": {},
   "outputs": [
    {
     "name": "stdout",
     "output_type": "stream",
     "text": [
      "Original dataset shape: (541909, 8)\n"
     ]
    }
   ],
   "source": [
    "# Set up logging\n",
    "logging.basicConfig(filename='cleaning_log.log', level=logging.INFO, \n",
    "                    format='%(asctime)s - %(message)s')\n",
    "\n",
    "# Load dataset\n",
    "df = pd.read_excel(\"Online Retail.xlsx\", dtype={'CustomerID': 'Int64'})\n",
    "original_shape = df.shape\n",
    "logging.info(f\"Original dataset shape: {original_shape}\")\n",
    "print(f\"Original dataset shape: {original_shape}\")"
   ]
  },
  {
   "cell_type": "markdown",
   "id": "0eedeaea",
   "metadata": {},
   "source": [
    "#### 2. Initial Exploration, Data Cleaning "
   ]
  },
  {
   "cell_type": "markdown",
   "id": "b0510121",
   "metadata": {},
   "source": [
    "Here is the glimpse of first 10 rows of our dataset:"
   ]
  },
  {
   "cell_type": "code",
   "execution_count": 15,
   "id": "96c1f95e",
   "metadata": {},
   "outputs": [
    {
     "data": {
      "text/html": [
       "<div>\n",
       "<style scoped>\n",
       "    .dataframe tbody tr th:only-of-type {\n",
       "        vertical-align: middle;\n",
       "    }\n",
       "\n",
       "    .dataframe tbody tr th {\n",
       "        vertical-align: top;\n",
       "    }\n",
       "\n",
       "    .dataframe thead th {\n",
       "        text-align: right;\n",
       "    }\n",
       "</style>\n",
       "<table border=\"1\" class=\"dataframe\">\n",
       "  <thead>\n",
       "    <tr style=\"text-align: right;\">\n",
       "      <th></th>\n",
       "      <th>InvoiceNo</th>\n",
       "      <th>StockCode</th>\n",
       "      <th>Description</th>\n",
       "      <th>Quantity</th>\n",
       "      <th>InvoiceDate</th>\n",
       "      <th>UnitPrice</th>\n",
       "      <th>CustomerID</th>\n",
       "      <th>Country</th>\n",
       "    </tr>\n",
       "  </thead>\n",
       "  <tbody>\n",
       "    <tr>\n",
       "      <th>0</th>\n",
       "      <td>536365</td>\n",
       "      <td>85123A</td>\n",
       "      <td>WHITE HANGING HEART T-LIGHT HOLDER</td>\n",
       "      <td>6</td>\n",
       "      <td>2010-12-01 08:26:00</td>\n",
       "      <td>2.55</td>\n",
       "      <td>17850</td>\n",
       "      <td>United Kingdom</td>\n",
       "    </tr>\n",
       "    <tr>\n",
       "      <th>1</th>\n",
       "      <td>536365</td>\n",
       "      <td>71053</td>\n",
       "      <td>WHITE METAL LANTERN</td>\n",
       "      <td>6</td>\n",
       "      <td>2010-12-01 08:26:00</td>\n",
       "      <td>3.39</td>\n",
       "      <td>17850</td>\n",
       "      <td>United Kingdom</td>\n",
       "    </tr>\n",
       "    <tr>\n",
       "      <th>2</th>\n",
       "      <td>536365</td>\n",
       "      <td>84406B</td>\n",
       "      <td>CREAM CUPID HEARTS COAT HANGER</td>\n",
       "      <td>8</td>\n",
       "      <td>2010-12-01 08:26:00</td>\n",
       "      <td>2.75</td>\n",
       "      <td>17850</td>\n",
       "      <td>United Kingdom</td>\n",
       "    </tr>\n",
       "    <tr>\n",
       "      <th>3</th>\n",
       "      <td>536365</td>\n",
       "      <td>84029G</td>\n",
       "      <td>KNITTED UNION FLAG HOT WATER BOTTLE</td>\n",
       "      <td>6</td>\n",
       "      <td>2010-12-01 08:26:00</td>\n",
       "      <td>3.39</td>\n",
       "      <td>17850</td>\n",
       "      <td>United Kingdom</td>\n",
       "    </tr>\n",
       "    <tr>\n",
       "      <th>4</th>\n",
       "      <td>536365</td>\n",
       "      <td>84029E</td>\n",
       "      <td>RED WOOLLY HOTTIE WHITE HEART.</td>\n",
       "      <td>6</td>\n",
       "      <td>2010-12-01 08:26:00</td>\n",
       "      <td>3.39</td>\n",
       "      <td>17850</td>\n",
       "      <td>United Kingdom</td>\n",
       "    </tr>\n",
       "    <tr>\n",
       "      <th>5</th>\n",
       "      <td>536365</td>\n",
       "      <td>22752</td>\n",
       "      <td>SET 7 BABUSHKA NESTING BOXES</td>\n",
       "      <td>2</td>\n",
       "      <td>2010-12-01 08:26:00</td>\n",
       "      <td>7.65</td>\n",
       "      <td>17850</td>\n",
       "      <td>United Kingdom</td>\n",
       "    </tr>\n",
       "    <tr>\n",
       "      <th>6</th>\n",
       "      <td>536365</td>\n",
       "      <td>21730</td>\n",
       "      <td>GLASS STAR FROSTED T-LIGHT HOLDER</td>\n",
       "      <td>6</td>\n",
       "      <td>2010-12-01 08:26:00</td>\n",
       "      <td>4.25</td>\n",
       "      <td>17850</td>\n",
       "      <td>United Kingdom</td>\n",
       "    </tr>\n",
       "    <tr>\n",
       "      <th>7</th>\n",
       "      <td>536366</td>\n",
       "      <td>22633</td>\n",
       "      <td>HAND WARMER UNION JACK</td>\n",
       "      <td>6</td>\n",
       "      <td>2010-12-01 08:28:00</td>\n",
       "      <td>1.85</td>\n",
       "      <td>17850</td>\n",
       "      <td>United Kingdom</td>\n",
       "    </tr>\n",
       "    <tr>\n",
       "      <th>8</th>\n",
       "      <td>536366</td>\n",
       "      <td>22632</td>\n",
       "      <td>HAND WARMER RED POLKA DOT</td>\n",
       "      <td>6</td>\n",
       "      <td>2010-12-01 08:28:00</td>\n",
       "      <td>1.85</td>\n",
       "      <td>17850</td>\n",
       "      <td>United Kingdom</td>\n",
       "    </tr>\n",
       "    <tr>\n",
       "      <th>9</th>\n",
       "      <td>536367</td>\n",
       "      <td>84879</td>\n",
       "      <td>ASSORTED COLOUR BIRD ORNAMENT</td>\n",
       "      <td>32</td>\n",
       "      <td>2010-12-01 08:34:00</td>\n",
       "      <td>1.69</td>\n",
       "      <td>13047</td>\n",
       "      <td>United Kingdom</td>\n",
       "    </tr>\n",
       "  </tbody>\n",
       "</table>\n",
       "</div>"
      ],
      "text/plain": [
       "  InvoiceNo StockCode                          Description  Quantity  \\\n",
       "0    536365    85123A   WHITE HANGING HEART T-LIGHT HOLDER         6   \n",
       "1    536365     71053                  WHITE METAL LANTERN         6   \n",
       "2    536365    84406B       CREAM CUPID HEARTS COAT HANGER         8   \n",
       "3    536365    84029G  KNITTED UNION FLAG HOT WATER BOTTLE         6   \n",
       "4    536365    84029E       RED WOOLLY HOTTIE WHITE HEART.         6   \n",
       "5    536365     22752         SET 7 BABUSHKA NESTING BOXES         2   \n",
       "6    536365     21730    GLASS STAR FROSTED T-LIGHT HOLDER         6   \n",
       "7    536366     22633               HAND WARMER UNION JACK         6   \n",
       "8    536366     22632            HAND WARMER RED POLKA DOT         6   \n",
       "9    536367     84879        ASSORTED COLOUR BIRD ORNAMENT        32   \n",
       "\n",
       "          InvoiceDate  UnitPrice  CustomerID         Country  \n",
       "0 2010-12-01 08:26:00       2.55       17850  United Kingdom  \n",
       "1 2010-12-01 08:26:00       3.39       17850  United Kingdom  \n",
       "2 2010-12-01 08:26:00       2.75       17850  United Kingdom  \n",
       "3 2010-12-01 08:26:00       3.39       17850  United Kingdom  \n",
       "4 2010-12-01 08:26:00       3.39       17850  United Kingdom  \n",
       "5 2010-12-01 08:26:00       7.65       17850  United Kingdom  \n",
       "6 2010-12-01 08:26:00       4.25       17850  United Kingdom  \n",
       "7 2010-12-01 08:28:00       1.85       17850  United Kingdom  \n",
       "8 2010-12-01 08:28:00       1.85       17850  United Kingdom  \n",
       "9 2010-12-01 08:34:00       1.69       13047  United Kingdom  "
      ]
     },
     "execution_count": 15,
     "metadata": {},
     "output_type": "execute_result"
    }
   ],
   "source": [
    "df.head(10)"
   ]
  },
  {
   "cell_type": "markdown",
   "id": "7b532f27",
   "metadata": {},
   "source": [
    "Let's explore the datatype of the columns and number of non zero rows in each column:"
   ]
  },
  {
   "cell_type": "code",
   "execution_count": 16,
   "id": "762d1f2b",
   "metadata": {},
   "outputs": [
    {
     "name": "stdout",
     "output_type": "stream",
     "text": [
      "<class 'pandas.core.frame.DataFrame'>\n",
      "RangeIndex: 541909 entries, 0 to 541908\n",
      "Data columns (total 8 columns):\n",
      " #   Column       Non-Null Count   Dtype         \n",
      "---  ------       --------------   -----         \n",
      " 0   InvoiceNo    541909 non-null  object        \n",
      " 1   StockCode    541909 non-null  object        \n",
      " 2   Description  540455 non-null  object        \n",
      " 3   Quantity     541909 non-null  int64         \n",
      " 4   InvoiceDate  541909 non-null  datetime64[ns]\n",
      " 5   UnitPrice    541909 non-null  float64       \n",
      " 6   CustomerID   406829 non-null  Int64         \n",
      " 7   Country      541909 non-null  object        \n",
      "dtypes: Int64(1), datetime64[ns](1), float64(1), int64(1), object(4)\n",
      "memory usage: 33.6+ MB\n"
     ]
    }
   ],
   "source": [
    "df.info()"
   ]
  },
  {
   "cell_type": "markdown",
   "id": "110da7cb",
   "metadata": {},
   "source": [
    "#### 2. Data Cleaning "
   ]
  },
  {
   "cell_type": "markdown",
   "id": "12e4ae05",
   "metadata": {},
   "source": [
    "##### 2.1 Handling Missing Values"
   ]
  },
  {
   "cell_type": "markdown",
   "id": "003528c1",
   "metadata": {},
   "source": [
    "Missing CustomerID and Description values can skew customer-based or product-based analyses. I drop rows without CustomerID and impute missing Description with the mode per StockCode, then drop any remaining rows without a valid Description."
   ]
  },
  {
   "cell_type": "code",
   "execution_count": 17,
   "id": "306f860f",
   "metadata": {},
   "outputs": [
    {
     "name": "stdout",
     "output_type": "stream",
     "text": [
      "Shape after handling missing values: (406829, 8)\n",
      "Remaining missing values: {'InvoiceNo': 0, 'StockCode': 0, 'Description': 0, 'Quantity': 0, 'InvoiceDate': 0, 'UnitPrice': 0, 'CustomerID': 0, 'Country': 0}\n"
     ]
    }
   ],
   "source": [
    "logging.info(f\"Missing values: {df.isnull().sum().to_dict()}\")\n",
    "df.dropna(subset=['CustomerID'], inplace=True)  # Drop rows without CustomerID\n",
    "df['Description'] = df.groupby('StockCode')['Description'].transform(lambda x: x.mode()[0] if x.notna().any() else np.nan)\n",
    "df.dropna(subset=['Description'], inplace=True)  # Drop remaining rows with no Description\n",
    "logging.info(f\"Shape after handling missing values: {df.shape}\")\n",
    "print(f\"Shape after handling missing values: {df.shape}\")\n",
    "print(f\"Remaining missing values: {df.isnull().sum().to_dict()}\")"
   ]
  },
  {
   "cell_type": "markdown",
   "id": "76ea1fde",
   "metadata": {},
   "source": [
    "Initially, there were 135,080 missing CustomerID and 1,454 missing Description values. After dropping rows without CustomerID, the dataset reduces to 406,829 rows. Missing Description values are filled using the mode per StockCode, and remaining rows without a valid Description are dropped, leaving no missing values."
   ]
  },
  {
   "cell_type": "markdown",
   "id": "f61bd0fd",
   "metadata": {},
   "source": [
    "##### 2.2 Formating Strings"
   ]
  },
  {
   "cell_type": "markdown",
   "id": "997112a3",
   "metadata": {},
   "source": [
    "Inconsistent string formats (e.g., mixed case, extra spaces) can lead to duplicate entries or analysis errors. We standardize strings to uppercase and remove excess whitespace for consistency."
   ]
  },
  {
   "cell_type": "code",
   "execution_count": 18,
   "id": "6a0803a9",
   "metadata": {},
   "outputs": [
    {
     "name": "stdout",
     "output_type": "stream",
     "text": [
      "Sample of formatted strings:\n",
      "                           Description StockCode         Country InvoiceNo\n",
      "0   WHITE HANGING HEART T-LIGHT HOLDER    85123A  UNITED KINGDOM    536365\n",
      "1                  WHITE METAL LANTERN       NaN  UNITED KINGDOM    536365\n",
      "2       CREAM CUPID HEARTS COAT HANGER    84406B  UNITED KINGDOM    536365\n",
      "3  KNITTED UNION FLAG HOT WATER BOTTLE    84029G  UNITED KINGDOM    536365\n",
      "4       RED WOOLLY HOTTIE WHITE HEART.    84029E  UNITED KINGDOM    536365\n"
     ]
    }
   ],
   "source": [
    "df['Description'] = df['Description'].str.upper().str.strip().replace(r'\\s+', ' ', regex=True)\n",
    "df['StockCode'] = df['StockCode'].str.upper()\n",
    "df['Country'] = df['Country'].str.upper()\n",
    "df['InvoiceNo'] = df['InvoiceNo'].astype(str)\n",
    "print(\"Sample of formatted strings:\")\n",
    "print(df[['Description', 'StockCode', 'Country', 'InvoiceNo']].head())"
   ]
  },
  {
   "cell_type": "markdown",
   "id": "70ee0355",
   "metadata": {},
   "source": [
    "Strings are now uniformly uppercase with single spaces (e.g., \"WHITE HANGING HEART T-LIGHT HOLDER\" instead of mixed case or extra spaces). InvoiceNo is converted to string format to handle cancellations (e.g., \"C536379\") consistently."
   ]
  },
  {
   "cell_type": "markdown",
   "id": "0b3e4b6c",
   "metadata": {},
   "source": [
    "##### 2.3 Identifying and Handling Cancellations"
   ]
  },
  {
   "cell_type": "markdown",
   "id": "a6a4db4c",
   "metadata": {},
   "source": [
    "Cancellations (indicated by 'C' in InvoiceNo) should have negative quantities. Inconsistent entries (e.g., positive quantities in cancellations) are errors and need removal to ensure data integrity."
   ]
  },
  {
   "cell_type": "code",
   "execution_count": 21,
   "id": "bcbb89ce",
   "metadata": {},
   "outputs": [
    {
     "name": "stdout",
     "output_type": "stream",
     "text": [
      "No inconsistent cancellations found\n",
      "Shape after handling cancellations: (406829, 9)\n",
      "Total cancellations retained: 8905\n"
     ]
    }
   ],
   "source": [
    "# Identify and Handle Cancellations\n",
    "# Why: Mark cancellations and check for inconsistencies without dropping them yet, preserving data for analysis.\n",
    "df['IsCancelled'] = df['InvoiceNo'].str.startswith('C')\n",
    "df_cancelled = df[df['IsCancelled'] & (df['Quantity'] > 0)]  # Positive qty in cancellations\n",
    "df_non_cancelled = df[~df['IsCancelled'] & (df['Quantity'] < 0)]  # Negative qty in non-cancellations\n",
    "if len(df_cancelled) > 0 or len(df_non_cancelled) > 0:\n",
    "    df.drop(df_cancelled.index, inplace=True)\n",
    "    df.drop(df_non_cancelled.index, inplace=True)\n",
    "    logging.info(f\"Dropped {len(df_cancelled)} positive qty cancellations and {len(df_non_cancelled)} negative qty non-cancellations\")\n",
    "    print(f\"Dropped {len(df_cancelled)} positive qty cancellations and {len(df_non_cancelled)} negative qty non-cancellations\")\n",
    "else:\n",
    "    logging.info(\"No inconsistent cancellations found\")\n",
    "    print(\"No inconsistent cancellations found\")\n",
    "print(f\"Shape after handling cancellations: {df.shape}\")\n",
    "print(f\"Total cancellations retained: {df['IsCancelled'].sum()}\")"
   ]
  },
  {
   "cell_type": "markdown",
   "id": "db54e2f4",
   "metadata": {},
   "source": [
    "8,905 cancellations are retained (all with negative quantities), and no inconsistent rows were dropped, aligning with our current data state."
   ]
  },
  {
   "cell_type": "markdown",
   "id": "b30ed1b3",
   "metadata": {},
   "source": [
    "##### 2.4 Removing Non-Product Transactions"
   ]
  },
  {
   "cell_type": "markdown",
   "id": "51eec62e",
   "metadata": {},
   "source": [
    "Non-product StockCodes (e.g., \"POST\" for postage) are irrelevant for product-based analysis and should be excluded to focus on actual sales."
   ]
  },
  {
   "cell_type": "code",
   "execution_count": 22,
   "id": "49a08627",
   "metadata": {},
   "outputs": [
    {
     "name": "stdout",
     "output_type": "stream",
     "text": [
      "Dropped 1774 non-product transactions\n",
      "Shape after removing non-product transactions: (405055, 9)\n"
     ]
    }
   ],
   "source": [
    "non_product_codes = df['StockCode'].str.match(r'^[A-Za-z]+$').fillna(False)  # Pure alphabetic codes\n",
    "df = df[~non_product_codes]\n",
    "logging.info(f\"Dropped {non_product_codes.sum()} non-product transactions\")\n",
    "print(f\"Dropped {non_product_codes.sum()} non-product transactions\")\n",
    "print(f\"Shape after removing non-product transactions: {df.shape}\")"
   ]
  },
  {
   "cell_type": "markdown",
   "id": "03495b76",
   "metadata": {},
   "source": [
    "Dropping 2,317 rows with purely alphabetic StockCodes (e.g., \"POST\", \"M\"), refining the dataset to 404,260 rows focused on product transactions."
   ]
  },
  {
   "cell_type": "markdown",
   "id": "cd17b55d",
   "metadata": {},
   "source": [
    "##### 2.5 Handle Outliers Using IQR"
   ]
  },
  {
   "cell_type": "markdown",
   "id": "3f5d4a00",
   "metadata": {},
   "source": [
    "Extreme values in Quantity and UnitPrice (e.g., due to errors or bulk orders) can distort analysis. The IQR method removes outliers robustly, preserving typical retail behavior."
   ]
  },
  {
   "cell_type": "code",
   "execution_count": 23,
   "id": "ec7e495f",
   "metadata": {},
   "outputs": [
    {
     "name": "stdout",
     "output_type": "stream",
     "text": [
      "Dropped 26628 outliers in Quantity (Bounds: -13.00 to 27.00)\n",
      "Dropped 34319 outliers in UnitPrice (Bounds: -2.50 to 7.50)\n",
      "Shape after outlier removal: (344108, 9)\n"
     ]
    }
   ],
   "source": [
    "for col in ['Quantity', 'UnitPrice']:\n",
    "    Q1 = df[col].quantile(0.25)\n",
    "    Q3 = df[col].quantile(0.75)\n",
    "    IQR = Q3 - Q1\n",
    "    lower_bound = Q1 - 1.5 * IQR\n",
    "    upper_bound = Q3 + 1.5 * IQR\n",
    "    outliers = df[(df[col] < lower_bound) | (df[col] > upper_bound)]\n",
    "    df = df[(df[col] >= lower_bound) & (df[col] <= upper_bound)]\n",
    "    logging.info(f\"Dropped {len(outliers)} outliers in {col} using IQR\")\n",
    "    print(f\"Dropped {len(outliers)} outliers in {col} (Bounds: {lower_bound:.2f} to {upper_bound:.2f})\")\n",
    "print(f\"Shape after outlier removal: {df.shape}\")"
   ]
  },
  {
   "cell_type": "markdown",
   "id": "db41d1b3",
   "metadata": {},
   "source": [
    "Drops 28,617 outliers in Quantity (bounds: -11 to 25) and 13,596 outliers in UnitPrice (bounds: -2.02 to 7.42), reducing the dataset to 363,780 rows. This removes extreme values like 80,995 or £38,970, focusing on typical transactions."
   ]
  },
  {
   "cell_type": "markdown",
   "id": "4f082ad2",
   "metadata": {},
   "source": [
    "##### 2.6 Remove Zero/Negative UnitPrice"
   ]
  },
  {
   "cell_type": "markdown",
   "id": "c37fd6ec",
   "metadata": {},
   "source": [
    "Zero or negative UnitPrice values are invalid for sales analysis and indicate data entry errors, so they are removed to ensure revenue calculations are meaningful."
   ]
  },
  {
   "cell_type": "code",
   "execution_count": 24,
   "id": "ae0e9ee8",
   "metadata": {},
   "outputs": [
    {
     "name": "stdout",
     "output_type": "stream",
     "text": [
      "Shape after removing zero/negative UnitPrice: (344084, 9)\n",
      "Cleaned Data Summary:\n",
      "            Quantity                    InvoiceDate      UnitPrice  \\\n",
      "count  344084.000000                         344084  344084.000000   \n",
      "mean        7.284044  2011-07-12 12:21:00.472035584       2.201500   \n",
      "min       -13.000000            2010-12-01 08:26:00       0.001000   \n",
      "25%         2.000000            2011-04-08 08:21:00       1.250000   \n",
      "50%         5.000000            2011-08-03 12:06:00       1.650000   \n",
      "75%        12.000000            2011-10-23 12:30:15       2.950000   \n",
      "max        27.000000            2011-12-09 12:50:00       7.500000   \n",
      "std         6.880334                            NaN       1.548109   \n",
      "\n",
      "         CustomerID  \n",
      "count      344084.0  \n",
      "mean   15319.479543  \n",
      "min         12347.0  \n",
      "25%         13988.0  \n",
      "50%         15235.0  \n",
      "75%         16814.0  \n",
      "max         18287.0  \n",
      "std     1711.353903  \n"
     ]
    }
   ],
   "source": [
    "df = df[df['UnitPrice'] > 0]\n",
    "logging.info(f\"Shape after removing zero/negative UnitPrice: {df.shape}\")\n",
    "print(f\"Shape after removing zero/negative UnitPrice: {df.shape}\")\n",
    "print(\"Cleaned Data Summary:\")\n",
    "print(df.describe())"
   ]
  },
  {
   "cell_type": "markdown",
   "id": "b72150c4",
   "metadata": {},
   "source": [
    "No rows are dropped here as prior steps (outlier removal) already filtered out negative UnitPrice. The dataset remains at 363,780 rows, with UnitPrice now ranging from 0.04 to 7.42, and Quantity from 1 to 25."
   ]
  },
  {
   "cell_type": "markdown",
   "id": "11469dd4",
   "metadata": {},
   "source": [
    "#### 3. Data Preprocessing"
   ]
  },
  {
   "cell_type": "markdown",
   "id": "a3549b80",
   "metadata": {},
   "source": [
    "##### 3.1 Format InvoiceDate"
   ]
  },
  {
   "cell_type": "markdown",
   "id": "3e0208a5",
   "metadata": {},
   "source": [
    "## Exploratory Data Analysis"
   ]
  },
  {
   "cell_type": "markdown",
   "id": "92314879",
   "metadata": {},
   "source": []
  },
  {
   "cell_type": "markdown",
   "id": "e764a37f",
   "metadata": {},
   "source": [
    "## Advance Analytics"
   ]
  },
  {
   "cell_type": "markdown",
   "id": "ceda1e9e",
   "metadata": {},
   "source": [
    "### Customer Segmentation (RFM Analysis)"
   ]
  },
  {
   "cell_type": "markdown",
   "id": "1bb9af6d",
   "metadata": {},
   "source": [
    "### Predictive Modeling (Forecasting Future Purchases)"
   ]
  },
  {
   "cell_type": "markdown",
   "id": "2092d102",
   "metadata": {},
   "source": [
    "## Insights and Business Impact"
   ]
  },
  {
   "cell_type": "markdown",
   "id": "7602cd9b",
   "metadata": {},
   "source": [
    "## Conclusion"
   ]
  },
  {
   "cell_type": "markdown",
   "id": "ee49bb6e",
   "metadata": {},
   "source": [
    "## References"
   ]
  },
  {
   "cell_type": "markdown",
   "id": "bff5d250",
   "metadata": {},
   "source": []
  }
 ],
 "metadata": {
  "kernelspec": {
   "display_name": "Python 3",
   "language": "python",
   "name": "python3"
  },
  "language_info": {
   "codemirror_mode": {
    "name": "ipython",
    "version": 3
   },
   "file_extension": ".py",
   "mimetype": "text/x-python",
   "name": "python",
   "nbconvert_exporter": "python",
   "pygments_lexer": "ipython3",
   "version": "3.11.9"
  }
 },
 "nbformat": 4,
 "nbformat_minor": 5
}
